{
 "cells": [
  {
   "cell_type": "code",
   "execution_count": 1,
   "metadata": {},
   "outputs": [],
   "source": [
    "pracset = {\"coord\": { \"lon\": 139,\"lat\": 35},\n",
    "  \"weather\": [\n",
    "    {\n",
    "      \"id\": 800,\n",
    "      \"main\": \"Clear\",\n",
    "      \"description\": \"clear sky\",\n",
    "      \"icon\": \"01n\"\n",
    "    }\n",
    "  ],\n",
    "  \"base\": \"stations\",\n",
    "  \"main\": {\n",
    "    \"temp\": 281.52,\n",
    "    \"feels_like\": 278.99,\n",
    "    \"temp_min\": 280.15,\n",
    "    \"temp_max\": 283.71,\n",
    "    \"pressure\": 1016,\n",
    "    \"humidity\": 93\n",
    "  },\n",
    "  \"wind\": {\n",
    "    \"speed\": 0.47,\n",
    "    \"deg\": 107.538\n",
    "  },\n",
    "  \"clouds\": {\n",
    "    \"all\": 2\n",
    "  },\n",
    "  \"dt\": 1560350192,\n",
    "  \"sys\": {\n",
    "    \"type\": 3,\n",
    "    \"id\": 2019346,\n",
    "    \"message\": 0.0065,\n",
    "    \"country\": \"JP\",\n",
    "    \"sunrise\": 1560281377,\n",
    "    \"sunset\": 1560333478\n",
    "  },\n",
    "  \"timezone\": 32400,\n",
    "  \"id\": 1851632,\n",
    "  \"name\": \"Shuzenji\",\n",
    "  \"cod\": 200\n",
    "}"
   ]
  },
  {
   "cell_type": "code",
   "execution_count": 125,
   "metadata": {},
   "outputs": [
    {
     "ename": "IndexError",
     "evalue": "list index out of range",
     "output_type": "error",
     "traceback": [
      "\u001b[1;31m---------------------------------------------------------------------------\u001b[0m",
      "\u001b[1;31mIndexError\u001b[0m                                Traceback (most recent call last)",
      "\u001b[1;32m<ipython-input-125-fa741967650e>\u001b[0m in \u001b[0;36m<module>\u001b[1;34m\u001b[0m\n\u001b[1;32m----> 1\u001b[1;33m \u001b[0mpracset\u001b[0m\u001b[1;33m[\u001b[0m\u001b[1;34m\"weather\"\u001b[0m\u001b[1;33m]\u001b[0m\u001b[1;33m[\u001b[0m\u001b[1;36m1\u001b[0m\u001b[1;33m]\u001b[0m\u001b[1;33m\u001b[0m\u001b[1;33m\u001b[0m\u001b[0m\n\u001b[0m",
      "\u001b[1;31mIndexError\u001b[0m: list index out of range"
     ]
    }
   ],
   "source": [
    "pracset[\"weather\"][0]"
   ]
  },
  {
   "cell_type": "code",
   "execution_count": 61,
   "metadata": {},
   "outputs": [
    {
     "name": "stdout",
     "output_type": "stream",
     "text": [
      "coord {'lon': 139, 'lat': 35}\n",
      "weather [{'id': 800, 'main': 'Clear', 'description': 'clear sky', 'icon': '01n'}]\n",
      "base stations\n",
      "main {'temp': 281.52, 'feels_like': 278.99, 'temp_min': 280.15, 'temp_max': 283.71, 'pressure': 1016, 'humidity': 93}\n",
      "wind {'speed': 0.47, 'deg': 107.538}\n",
      "clouds {'all': 2}\n",
      "dt 1560350192\n",
      "sys {'type': 3, 'id': 2019346, 'message': 0.0065, 'country': 'JP', 'sunrise': 1560281377, 'sunset': 1560333478}\n",
      "timezone 32400\n",
      "id 1851632\n",
      "name Shuzenji\n",
      "cod 200\n"
     ]
    }
   ],
   "source": [
    "for k, v in pracset.items():\n",
    "    print(k, v)"
   ]
  },
  {
   "cell_type": "code",
   "execution_count": 90,
   "metadata": {},
   "outputs": [
    {
     "name": "stdout",
     "output_type": "stream",
     "text": [
      "dict_values([800, 'Clear', 'clear sky', '01n'])\n",
      "dict_values([800, 'Clear', 'clear sky', '01n'])\n",
      "dict_values([800, 'Clear', 'clear sky', '01n'])\n",
      "dict_values([800, 'Clear', 'clear sky', '01n'])\n",
      "dict_values([800, 'Clear', 'clear sky', '01n'])\n",
      "dict_values([800, 'Clear', 'clear sky', '01n'])\n",
      "dict_values([800, 'Clear', 'clear sky', '01n'])\n",
      "dict_values([800, 'Clear', 'clear sky', '01n'])\n",
      "dict_values([800, 'Clear', 'clear sky', '01n'])\n",
      "dict_values([800, 'Clear', 'clear sky', '01n'])\n",
      "dict_values([800, 'Clear', 'clear sky', '01n'])\n",
      "dict_values([800, 'Clear', 'clear sky', '01n'])\n"
     ]
    }
   ],
   "source": [
    "for k, v, in pracset.items():\n",
    "    for w in pracset[\"weather\"]:\n",
    "        print(pracset[\"weather\"][0].values())"
   ]
  },
  {
   "cell_type": "code",
   "execution_count": 106,
   "metadata": {},
   "outputs": [
    {
     "name": "stdout",
     "output_type": "stream",
     "text": [
      "{'id': 800, 'main': 'Clear', 'description': 'clear sky', 'icon': '01n'}\n",
      "{'id': 800, 'main': 'Clear', 'description': 'clear sky', 'icon': '01n'}\n",
      "{'id': 800, 'main': 'Clear', 'description': 'clear sky', 'icon': '01n'}\n",
      "{'id': 800, 'main': 'Clear', 'description': 'clear sky', 'icon': '01n'}\n",
      "{'id': 800, 'main': 'Clear', 'description': 'clear sky', 'icon': '01n'}\n",
      "{'id': 800, 'main': 'Clear', 'description': 'clear sky', 'icon': '01n'}\n",
      "{'id': 800, 'main': 'Clear', 'description': 'clear sky', 'icon': '01n'}\n",
      "{'id': 800, 'main': 'Clear', 'description': 'clear sky', 'icon': '01n'}\n",
      "{'id': 800, 'main': 'Clear', 'description': 'clear sky', 'icon': '01n'}\n",
      "{'id': 800, 'main': 'Clear', 'description': 'clear sky', 'icon': '01n'}\n",
      "{'id': 800, 'main': 'Clear', 'description': 'clear sky', 'icon': '01n'}\n",
      "{'id': 800, 'main': 'Clear', 'description': 'clear sky', 'icon': '01n'}\n"
     ]
    }
   ],
   "source": [
    "for k, v in pracset.items():\n",
    "    for w in pracset[\"weather\"]:\n",
    "        print(w)"
   ]
  },
  {
   "cell_type": "code",
   "execution_count": 112,
   "metadata": {},
   "outputs": [
    {
     "name": "stdout",
     "output_type": "stream",
     "text": [
      "coord {'lon': 139, 'lat': 35}\n",
      "weather [{'id': 800, 'main': 'Clear', 'description': 'clear sky', 'icon': '01n'}]\n",
      "base stations\n",
      "main {'temp': 281.52, 'feels_like': 278.99, 'temp_min': 280.15, 'temp_max': 283.71, 'pressure': 1016, 'humidity': 93}\n",
      "wind {'speed': 0.47, 'deg': 107.538}\n",
      "clouds {'all': 2}\n",
      "dt 1560350192\n",
      "sys {'type': 3, 'id': 2019346, 'message': 0.0065, 'country': 'JP', 'sunrise': 1560281377, 'sunset': 1560333478}\n",
      "timezone 32400\n",
      "id 1851632\n",
      "name Shuzenji\n",
      "cod 200\n"
     ]
    }
   ],
   "source": [
    "test = [print(key, value) in pracset for key, value in pracset.items()]"
   ]
  },
  {
   "cell_type": "code",
   "execution_count": 124,
   "metadata": {},
   "outputs": [
    {
     "name": "stdout",
     "output_type": "stream",
     "text": [
      "{'id': 800, 'main': 'Clear', 'description': 'clear sky', 'icon': '01n'}\n",
      "{'id': 800, 'main': 'Clear', 'description': 'clear sky', 'icon': '01n'}\n",
      "{'id': 800, 'main': 'Clear', 'description': 'clear sky', 'icon': '01n'}\n",
      "{'id': 800, 'main': 'Clear', 'description': 'clear sky', 'icon': '01n'}\n",
      "{'id': 800, 'main': 'Clear', 'description': 'clear sky', 'icon': '01n'}\n",
      "{'id': 800, 'main': 'Clear', 'description': 'clear sky', 'icon': '01n'}\n",
      "{'id': 800, 'main': 'Clear', 'description': 'clear sky', 'icon': '01n'}\n",
      "{'id': 800, 'main': 'Clear', 'description': 'clear sky', 'icon': '01n'}\n",
      "{'id': 800, 'main': 'Clear', 'description': 'clear sky', 'icon': '01n'}\n",
      "{'id': 800, 'main': 'Clear', 'description': 'clear sky', 'icon': '01n'}\n",
      "{'id': 800, 'main': 'Clear', 'description': 'clear sky', 'icon': '01n'}\n",
      "{'id': 800, 'main': 'Clear', 'description': 'clear sky', 'icon': '01n'}\n"
     ]
    }
   ],
   "source": [
    "for keys, values in pracset.items():\n",
    "    for w in pracset[\"weather\"]:\n",
    "        print(w)\n",
    "        "
   ]
  },
  {
   "cell_type": "code",
   "execution_count": 126,
   "metadata": {},
   "outputs": [
    {
     "ename": "AttributeError",
     "evalue": "'dict' object has no attribute 'info'",
     "output_type": "error",
     "traceback": [
      "\u001b[1;31m---------------------------------------------------------------------------\u001b[0m",
      "\u001b[1;31mAttributeError\u001b[0m                            Traceback (most recent call last)",
      "\u001b[1;32m<ipython-input-126-904932ee19cc>\u001b[0m in \u001b[0;36m<module>\u001b[1;34m\u001b[0m\n\u001b[1;32m----> 1\u001b[1;33m \u001b[0mpracset\u001b[0m\u001b[1;33m.\u001b[0m\u001b[0minfo\u001b[0m\u001b[1;33m(\u001b[0m\u001b[1;33m)\u001b[0m\u001b[1;33m\u001b[0m\u001b[1;33m\u001b[0m\u001b[0m\n\u001b[0m",
      "\u001b[1;31mAttributeError\u001b[0m: 'dict' object has no attribute 'info'"
     ]
    }
   ],
   "source": [
    "pracset.info()"
   ]
  },
  {
   "cell_type": "code",
   "execution_count": 128,
   "metadata": {},
   "outputs": [
    {
     "ename": "AttributeError",
     "evalue": "'dict' object has no attribute 'dtypes'",
     "output_type": "error",
     "traceback": [
      "\u001b[1;31m---------------------------------------------------------------------------\u001b[0m",
      "\u001b[1;31mAttributeError\u001b[0m                            Traceback (most recent call last)",
      "\u001b[1;32m<ipython-input-128-820d5c5b3a5b>\u001b[0m in \u001b[0;36m<module>\u001b[1;34m\u001b[0m\n\u001b[1;32m----> 1\u001b[1;33m \u001b[0mpracset\u001b[0m\u001b[1;33m.\u001b[0m\u001b[0mdtypes\u001b[0m\u001b[1;33m(\u001b[0m\u001b[1;33m)\u001b[0m\u001b[1;33m\u001b[0m\u001b[1;33m\u001b[0m\u001b[0m\n\u001b[0m",
      "\u001b[1;31mAttributeError\u001b[0m: 'dict' object has no attribute 'dtypes'"
     ]
    }
   ],
   "source": [
    "pracset.dtypes()"
   ]
  },
  {
   "cell_type": "code",
   "execution_count": 129,
   "metadata": {},
   "outputs": [
    {
     "data": {
      "text/plain": [
       "dict_values([{'lon': 139, 'lat': 35}, [{'id': 800, 'main': 'Clear', 'description': 'clear sky', 'icon': '01n'}], 'stations', {'temp': 281.52, 'feels_like': 278.99, 'temp_min': 280.15, 'temp_max': 283.71, 'pressure': 1016, 'humidity': 93}, {'speed': 0.47, 'deg': 107.538}, {'all': 2}, 1560350192, {'type': 3, 'id': 2019346, 'message': 0.0065, 'country': 'JP', 'sunrise': 1560281377, 'sunset': 1560333478}, 32400, 1851632, 'Shuzenji', 200])"
      ]
     },
     "execution_count": 129,
     "metadata": {},
     "output_type": "execute_result"
    }
   ],
   "source": [
    "pracset.values()"
   ]
  },
  {
   "cell_type": "code",
   "execution_count": 131,
   "metadata": {},
   "outputs": [
    {
     "data": {
      "text/plain": [
       "dict_keys(['coord', 'weather', 'base', 'main', 'wind', 'clouds', 'dt', 'sys', 'timezone', 'id', 'name', 'cod'])"
      ]
     },
     "execution_count": 131,
     "metadata": {},
     "output_type": "execute_result"
    }
   ],
   "source": [
    "pracset.keys()"
   ]
  },
  {
   "cell_type": "code",
   "execution_count": 132,
   "metadata": {},
   "outputs": [
    {
     "data": {
      "text/plain": [
       "'clear sky'"
      ]
     },
     "execution_count": 132,
     "metadata": {},
     "output_type": "execute_result"
    }
   ],
   "source": [
    "pracset[\"weather\"][0][\"description\"]"
   ]
  },
  {
   "cell_type": "code",
   "execution_count": null,
   "metadata": {},
   "outputs": [],
   "source": []
  }
 ],
 "metadata": {
  "kernelspec": {
   "display_name": "PythonData",
   "language": "python",
   "name": "pythondata"
  },
  "language_info": {
   "codemirror_mode": {
    "name": "ipython",
    "version": 3
   },
   "file_extension": ".py",
   "mimetype": "text/x-python",
   "name": "python",
   "nbconvert_exporter": "python",
   "pygments_lexer": "ipython3",
   "version": "3.7.7"
  }
 },
 "nbformat": 4,
 "nbformat_minor": 4
}
